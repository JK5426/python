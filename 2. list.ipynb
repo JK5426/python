{
 "cells": [
  {
   "cell_type": "markdown",
   "metadata": {},
   "source": [
    "# list"
   ]
  },
  {
   "cell_type": "code",
   "execution_count": 7,
   "metadata": {},
   "outputs": [
    {
     "name": "stdout",
     "output_type": "stream",
     "text": [
      "[1, 23, 45, 45, 3, 545, 46, 4]\n"
     ]
    }
   ],
   "source": [
    "lst=[1,23,45,45,3,545,46,4]\n",
    "print(lst)"
   ]
  },
  {
   "cell_type": "markdown",
   "metadata": {},
   "source": [
    "# list indexing"
   ]
  },
  {
   "cell_type": "code",
   "execution_count": 10,
   "metadata": {},
   "outputs": [
    {
     "name": "stdout",
     "output_type": "stream",
     "text": [
      "23\n"
     ]
    }
   ],
   "source": [
    "print(lst[1]) #geting position of list . It is start from zero..."
   ]
  },
  {
   "cell_type": "code",
   "execution_count": 12,
   "metadata": {},
   "outputs": [
    {
     "name": "stdout",
     "output_type": "stream",
     "text": [
      "46\n"
     ]
    }
   ],
   "source": [
    "print(lst[-2]) #this get value from backside... and start from -1 ..."
   ]
  },
  {
   "cell_type": "markdown",
   "metadata": {},
   "source": [
    "# to find the size of list USE len(name_of_list)"
   ]
  },
  {
   "cell_type": "code",
   "execution_count": 14,
   "metadata": {},
   "outputs": [
    {
     "data": {
      "text/plain": [
       "8"
      ]
     },
     "execution_count": 14,
     "metadata": {},
     "output_type": "execute_result"
    }
   ],
   "source": [
    "len(lst)"
   ]
  },
  {
   "cell_type": "markdown",
   "metadata": {},
   "source": [
    "# list multiplication"
   ]
  },
  {
   "cell_type": "code",
   "execution_count": 17,
   "metadata": {},
   "outputs": [
    {
     "name": "stdout",
     "output_type": "stream",
     "text": [
      "[1, 23, 45, 45, 3, 545, 46, 4, 1, 23, 45, 45, 3, 545, 46, 4]\n"
     ]
    }
   ],
   "source": [
    "print(lst*2) # it is reapeat list at two times....."
   ]
  },
  {
   "cell_type": "markdown",
   "metadata": {},
   "source": [
    "# insert item in list"
   ]
  },
  {
   "cell_type": "code",
   "execution_count": 4,
   "metadata": {},
   "outputs": [
    {
     "name": "stdout",
     "output_type": "stream",
     "text": [
      "['python', 'java', 'c++', 'c', 4, 5, 6]\n"
     ]
    }
   ],
   "source": [
    "vis=['python','java','c++',4,5,6] \n",
    "vis.insert(3,'c') #list_name.insert(position,which you want to insert)\n",
    "print(vis)"
   ]
  },
  {
   "cell_type": "markdown",
   "metadata": {},
   "source": [
    "# append(add one element in last of list)"
   ]
  },
  {
   "cell_type": "code",
   "execution_count": 8,
   "metadata": {},
   "outputs": [
    {
     "name": "stdout",
     "output_type": "stream",
     "text": [
      "['python', 'java', 'c++', 'c', '.net']\n"
     ]
    }
   ],
   "source": [
    "a_list=['python','java','c++','c']\n",
    "a_list.append(\".net\")\n",
    "print(a_list)"
   ]
  },
  {
   "cell_type": "code",
   "execution_count": 9,
   "metadata": {},
   "outputs": [],
   "source": [
    "#if we want to add more than one element in list by using append function then"
   ]
  },
  {
   "cell_type": "code",
   "execution_count": 10,
   "metadata": {},
   "outputs": [
    {
     "ename": "TypeError",
     "evalue": "append() takes exactly one argument (2 given)",
     "output_type": "error",
     "traceback": [
      "\u001b[1;31m---------------------------------------------------------------------------\u001b[0m",
      "\u001b[1;31mTypeError\u001b[0m                                 Traceback (most recent call last)",
      "\u001b[1;32m<ipython-input-10-ffbcec232392>\u001b[0m in \u001b[0;36m<module>\u001b[1;34m\u001b[0m\n\u001b[1;32m----> 1\u001b[1;33m \u001b[0ma_list\u001b[0m\u001b[1;33m.\u001b[0m\u001b[0mappend\u001b[0m\u001b[1;33m(\u001b[0m\u001b[1;36m9\u001b[0m\u001b[1;33m,\u001b[0m\u001b[1;36m5\u001b[0m\u001b[1;33m)\u001b[0m\u001b[1;33m\u001b[0m\u001b[1;33m\u001b[0m\u001b[0m\n\u001b[0m\u001b[0;32m      2\u001b[0m \u001b[0mprint\u001b[0m\u001b[1;33m(\u001b[0m\u001b[0ma_list\u001b[0m\u001b[1;33m)\u001b[0m\u001b[1;33m\u001b[0m\u001b[1;33m\u001b[0m\u001b[0m\n",
      "\u001b[1;31mTypeError\u001b[0m: append() takes exactly one argument (2 given)"
     ]
    }
   ],
   "source": [
    "a_list.append(9,5) # here use 2 argument but append takes only one.....\n",
    "print(a_list)"
   ]
  },
  {
   "cell_type": "markdown",
   "metadata": {},
   "source": [
    "# pop (give index to delete the element from list)"
   ]
  },
  {
   "cell_type": "code",
   "execution_count": 6,
   "metadata": {},
   "outputs": [
    {
     "name": "stdout",
     "output_type": "stream",
     "text": [
      "['python', 'java', 'c']\n"
     ]
    }
   ],
   "source": [
    "pop_list=['python','java','c++','c']\n",
    "pop_list.pop(2) \n",
    "print(pop_list)"
   ]
  },
  {
   "cell_type": "code",
   "execution_count": 1,
   "metadata": {},
   "outputs": [
    {
     "name": "stdout",
     "output_type": "stream",
     "text": [
      "['python', 'java', 'c++']\n"
     ]
    }
   ],
   "source": [
    "pop_list=['python','java','c++','c']\n",
    "pop_list.pop()  #if pop have no argument then it delet last item in list.\n",
    "print(pop_list)"
   ]
  },
  {
   "cell_type": "markdown",
   "metadata": {},
   "source": [
    "# remove(give item which you want to remove)"
   ]
  },
  {
   "cell_type": "code",
   "execution_count": 14,
   "metadata": {},
   "outputs": [
    {
     "name": "stdout",
     "output_type": "stream",
     "text": [
      "['python', 'c++', 'c']\n"
     ]
    }
   ],
   "source": [
    "re_list=['python','java','c++','c']\n",
    "re_list.remove('java')\n",
    "print(re_list)"
   ]
  },
  {
   "cell_type": "markdown",
   "metadata": {},
   "source": [
    "# defference b/w remove and pop\n",
    "----------------------------------------------\n",
    "            remove             |              pop            \n",
    "> give item to remove.         |      > give index of item for delete. \n",
    "> it does not return item which|      > it return the item which is to be pop.\n",
    "  you remove.                  |\n",
    "> if the element not in list   |      > it also get error if you want to pop \n",
    "  & you want to removes then   |        the greater than the size of list.\n",
    "  it get error."
   ]
  },
  {
   "cell_type": "markdown",
   "metadata": {},
   "source": [
    "# extend(appending all item in given list)"
   ]
  },
  {
   "cell_type": "code",
   "execution_count": 2,
   "metadata": {},
   "outputs": [
    {
     "name": "stdout",
     "output_type": "stream",
     "text": [
      "['python', 'java', 'c++', 'c', '.net', 'html', 5, 6, 7]\n",
      "None\n"
     ]
    }
   ],
   "source": [
    "list_1=['python','java','c++','c']\n",
    "list_2=['.net','html',5,6,7]\n",
    "a=list_1.extend(list_2)\n",
    "print(list_1)\n",
    "print(a)  # it does not return value get None ...."
   ]
  },
  {
   "cell_type": "code",
   "execution_count": 9,
   "metadata": {},
   "outputs": [
    {
     "name": "stdout",
     "output_type": "stream",
     "text": [
      "[]\n"
     ]
    }
   ],
   "source": [
    "new_l=['python','java','c++','c']#it is equivalent to clear....\n",
    "del(new_l[:])\n",
    "print(new_l)"
   ]
  },
  {
   "cell_type": "markdown",
   "metadata": {},
   "source": [
    "# clear(delete all the item from list)"
   ]
  },
  {
   "cell_type": "code",
   "execution_count": 1,
   "metadata": {},
   "outputs": [
    {
     "name": "stdout",
     "output_type": "stream",
     "text": [
      "[]\n",
      "None\n"
     ]
    }
   ],
   "source": [
    "l=['python','java','c++','c']\n",
    "a=l.clear()\n",
    "print(l)\n",
    "print(a) # ye return nahi karta hai...."
   ]
  },
  {
   "cell_type": "markdown",
   "metadata": {},
   "source": [
    "# index (geting position of item in list)"
   ]
  },
  {
   "cell_type": "code",
   "execution_count": 3,
   "metadata": {},
   "outputs": [
    {
     "name": "stdout",
     "output_type": "stream",
     "text": [
      "1\n"
     ]
    }
   ],
   "source": [
    "my_lst=['python','java','c++','c']\n",
    "a=my_lst.index('java')  #here java is on 1 place in given list...\n",
    "print(a)"
   ]
  },
  {
   "cell_type": "markdown",
   "metadata": {},
   "source": [
    "# count (countimg the item how many times to be use in list)"
   ]
  },
  {
   "cell_type": "code",
   "execution_count": 1,
   "metadata": {},
   "outputs": [
    {
     "data": {
      "text/plain": [
       "3"
      ]
     },
     "execution_count": 1,
     "metadata": {},
     "output_type": "execute_result"
    }
   ],
   "source": [
    "lst=['c','python','c','java','c++','c']\n",
    "lst.count('c')"
   ]
  },
  {
   "cell_type": "code",
   "execution_count": 3,
   "metadata": {},
   "outputs": [
    {
     "name": "stdout",
     "output_type": "stream",
     "text": [
      "items c comes 3 times\n"
     ]
    }
   ],
   "source": [
    "a=lst.count('c')\n",
    "print(\"items c comes\",a, \"times\")"
   ]
  },
  {
   "cell_type": "markdown",
   "metadata": {},
   "source": [
    "# sort()"
   ]
  },
  {
   "cell_type": "code",
   "execution_count": 1,
   "metadata": {},
   "outputs": [
    {
     "name": "stdout",
     "output_type": "stream",
     "text": [
      "[1, 3, 4, 5, 54, 56, 432, 673]\n"
     ]
    }
   ],
   "source": [
    "lst=[1,56,432,5,673,54,3,4]\n",
    "lst.sort()\n",
    "print(lst)"
   ]
  },
  {
   "cell_type": "code",
   "execution_count": 9,
   "metadata": {},
   "outputs": [
    {
     "ename": "AttributeError",
     "evalue": "'list' object has no attribute 'sorted'",
     "output_type": "error",
     "traceback": [
      "\u001b[1;31m---------------------------------------------------------------------------\u001b[0m",
      "\u001b[1;31mAttributeError\u001b[0m                            Traceback (most recent call last)",
      "\u001b[1;32m<ipython-input-9-b4db98e2882a>\u001b[0m in \u001b[0;36m<module>\u001b[1;34m\u001b[0m\n\u001b[1;32m----> 1\u001b[1;33m \u001b[0mlst\u001b[0m\u001b[1;33m.\u001b[0m\u001b[0msorted\u001b[0m\u001b[1;33m(\u001b[0m\u001b[0mreverse\u001b[0m\u001b[1;33m=\u001b[0m \u001b[0mtrue\u001b[0m \u001b[1;33m)\u001b[0m\u001b[1;33m\u001b[0m\u001b[1;33m\u001b[0m\u001b[0m\n\u001b[0m\u001b[0;32m      2\u001b[0m \u001b[0mprint\u001b[0m\u001b[1;33m(\u001b[0m\u001b[0mlst\u001b[0m\u001b[1;33m)\u001b[0m\u001b[1;33m\u001b[0m\u001b[1;33m\u001b[0m\u001b[0m\n",
      "\u001b[1;31mAttributeError\u001b[0m: 'list' object has no attribute 'sorted'"
     ]
    }
   ],
   "source": [
    "lst.sort(reverse= true )\n",
    "print(lst)"
   ]
  },
  {
   "cell_type": "markdown",
   "metadata": {},
   "source": [
    "# copy"
   ]
  },
  {
   "cell_type": "code",
   "execution_count": 1,
   "metadata": {},
   "outputs": [
    {
     "name": "stdout",
     "output_type": "stream",
     "text": [
      "['python', 'java', 'c++', 'c']\n"
     ]
    }
   ],
   "source": [
    "new_list=['python','java','c++','c'] #similar to new_list[:]\n",
    "copy_list=new_list.copy()\n",
    "print(copy_list)"
   ]
  },
  {
   "cell_type": "markdown",
   "metadata": {},
   "source": [
    "# reverse (arrenge all the element reverse order in list)"
   ]
  },
  {
   "cell_type": "code",
   "execution_count": 3,
   "metadata": {},
   "outputs": [
    {
     "name": "stdout",
     "output_type": "stream",
     "text": [
      "['c', 'c++', 'java', 'python']\n"
     ]
    }
   ],
   "source": [
    "lst=['python','java','c++','c']# similar to lst[-1::-1] lets try....\n",
    "lst.reverse()\n",
    "print(lst)"
   ]
  },
  {
   "cell_type": "code",
   "execution_count": 5,
   "metadata": {},
   "outputs": [
    {
     "name": "stdout",
     "output_type": "stream",
     "text": [
      "['c', 'c++', 'java', 'python']\n"
     ]
    }
   ],
   "source": [
    "lst=['python','java','c++','c']\n",
    "a=lst[-1::-1]\n",
    "print(a)"
   ]
  },
  {
   "cell_type": "markdown",
   "metadata": {},
   "source": [
    "# delete "
   ]
  },
  {
   "cell_type": "code",
   "execution_count": 4,
   "metadata": {
    "scrolled": true
   },
   "outputs": [
    {
     "name": "stdout",
     "output_type": "stream",
     "text": [
      "['dog', 0, 'cat']\n"
     ]
    }
   ],
   "source": [
    "MyList = [3, \"dog\", 0, \"cat\"]\n",
    "del MyList[0]  #give posion of item in bracket which to be deleted \n",
    "print (MyList)"
   ]
  },
  {
   "cell_type": "markdown",
   "metadata": {},
   "source": [
    "# replacing the item in list"
   ]
  },
  {
   "cell_type": "code",
   "execution_count": 1,
   "metadata": {},
   "outputs": [
    {
     "name": "stdout",
     "output_type": "stream",
     "text": [
      "[3, 57, 8, 'lion', 7, 5, 'cat']\n"
     ]
    }
   ],
   "source": [
    "my_list=[3,57,8,'dog',7,5,'cat']\n",
    "my_list[3]='lion'\n",
    "print(my_list) #here you saw the dog is replace by lion...."
   ]
  },
  {
   "cell_type": "markdown",
   "metadata": {},
   "source": [
    "# slicing of list"
   ]
  },
  {
   "cell_type": "markdown",
   "metadata": {},
   "source": [
    "#### slicing of list means the part of list or section of list.To slice a list we use two indexes and seprate from \":\"\n",
    "#             ....syntax....\n",
    "###        new_list = my_list [start_index : end_index]"
   ]
  },
  {
   "cell_type": "code",
   "execution_count": 1,
   "metadata": {},
   "outputs": [
    {
     "name": "stdout",
     "output_type": "stream",
     "text": [
      "[3, 45]\n"
     ]
    }
   ],
   "source": [
    "my_list=[1,3,45,'cat','dog',23,4,'rat']\n",
    "new_list=my_list[1:3]\n",
    "print(new_list)"
   ]
  },
  {
   "cell_type": "code",
   "execution_count": 1,
   "metadata": {},
   "outputs": [
    {
     "name": "stdout",
     "output_type": "stream",
     "text": [
      "[3, 45, 'cat', 'dog']\n"
     ]
    }
   ],
   "source": [
    "my_list=[1,3,45,'cat','dog',23,4,'rat']\n",
    "new_list=my_list[1:5]\n",
    "print(new_list)"
   ]
  },
  {
   "cell_type": "markdown",
   "metadata": {},
   "source": [
    "#### here we saw the index in slicing of list is start from the start_index and only \n",
    "#### goes to the end_index - 1 or we can say that the end_index is not include in\n",
    "#### new_list"
   ]
  },
  {
   "cell_type": "code",
   "execution_count": 21,
   "metadata": {},
   "outputs": [
    {
     "name": "stdout",
     "output_type": "stream",
     "text": [
      "[]\n",
      "[4, 23, 'dog', 'cat', 45, 3]\n",
      "[1, 3, 45, 'cat', 'dog', 23, 4, 'rat']\n"
     ]
    }
   ],
   "source": [
    "my_list=[1,3,45,'cat','dog',23,4,'rat']\n",
    "new_list=my_list[-2:0] #here -6 means the start item present at the index 6 and end item is\n",
    "#present at the index 0 so it get blank list becouse reverse of silicing not allow\n",
    "#If we want to reverse slicing the we write (:-1) means we move in list in backward direction.\n",
    "print(new_list)\n",
    "#let us see the slicing of list in backward direction....\n",
    "new_list=my_list[-2:0:-1]\n",
    "print(new_list)\n",
    "#if we write the element 0 from 8(but last item index=7) then it will run becouse it run at 8-1=7\n",
    "new_list=my_list[0:8]\n",
    "print(new_list)"
   ]
  },
  {
   "cell_type": "code",
   "execution_count": 24,
   "metadata": {},
   "outputs": [
    {
     "name": "stdout",
     "output_type": "stream",
     "text": [
      "[1, 3, 45, 'cat', 'dog', 23, 4, 'rat']\n"
     ]
    }
   ],
   "source": [
    "my_list=[1,3,45,'cat','dog',23,4,'rat']\n",
    "print(my_list[0:10]) #it also not error it will run at index 7 if 8 and 9 not present they not print...."
   ]
  },
  {
   "cell_type": "markdown",
   "metadata": {},
   "source": [
    "# slice a list with step\n",
    " #### new_list = my_list [ start_index : end_index : step]"
   ]
  },
  {
   "cell_type": "code",
   "execution_count": 25,
   "metadata": {
    "scrolled": true
   },
   "outputs": [
    {
     "name": "stdout",
     "output_type": "stream",
     "text": [
      "[1, 3, 5, 8]\n"
     ]
    }
   ],
   "source": [
    "mylist=[1,2,3,4,5,6,8,9]\n",
    "newlist=mylist[0:8:2]\n",
    "print(newlist)"
   ]
  },
  {
   "cell_type": "code",
   "execution_count": 31,
   "metadata": {},
   "outputs": [
    {
     "name": "stdout",
     "output_type": "stream",
     "text": [
      "[8, 5, 3]\n"
     ]
    }
   ],
   "source": [
    "#negative or backward slicing.....\n",
    "print(mylist[6:-8:-2])"
   ]
  },
  {
   "cell_type": "markdown",
   "metadata": {},
   "source": [
    "# default slicing "
   ]
  },
  {
   "cell_type": "code",
   "execution_count": 32,
   "metadata": {},
   "outputs": [
    {
     "name": "stdout",
     "output_type": "stream",
     "text": [
      "[1, 2, 3, 4, 5, 6, 8, 9]\n"
     ]
    }
   ],
   "source": [
    "mylist=[1,2,3,4,5,6,8,9]\n",
    "print(mylist[:]) # also called copy list..."
   ]
  },
  {
   "cell_type": "code",
   "execution_count": 33,
   "metadata": {},
   "outputs": [
    {
     "name": "stdout",
     "output_type": "stream",
     "text": [
      "[1, 2, 3, 4, 5, 6, 8, 9]\n"
     ]
    }
   ],
   "source": [
    "print(mylist[::]) #copy list with 1 step"
   ]
  },
  {
   "cell_type": "code",
   "execution_count": 34,
   "metadata": {},
   "outputs": [
    {
     "name": "stdout",
     "output_type": "stream",
     "text": [
      "[1, 3, 5, 8]\n"
     ]
    }
   ],
   "source": [
    "print(mylist[::2])"
   ]
  },
  {
   "cell_type": "code",
   "execution_count": 35,
   "metadata": {},
   "outputs": [
    {
     "name": "stdout",
     "output_type": "stream",
     "text": [
      "[9, 8, 6, 5, 4, 3, 2, 1]\n"
     ]
    }
   ],
   "source": [
    "print(mylist[::-1]) # reverse list........."
   ]
  },
  {
   "cell_type": "markdown",
   "metadata": {},
   "source": [
    "# list exercise"
   ]
  },
  {
   "cell_type": "markdown",
   "metadata": {},
   "source": [
    "#### Calculate average of a list(without using sum)"
   ]
  },
  {
   "cell_type": "code",
   "execution_count": 1,
   "metadata": {},
   "outputs": [
    {
     "name": "stdout",
     "output_type": "stream",
     "text": [
      "2.5\n"
     ]
    }
   ],
   "source": [
    "def function(my_liat):\n",
    "    sums=0\n",
    "    for x in my_liat:\n",
    "        sums=sums+x\n",
    "    avg=sums/len(my_liat)\n",
    "    return avg\n",
    "print(function([1,2,3,4]))"
   ]
  },
  {
   "cell_type": "markdown",
   "metadata": {},
   "source": [
    "# calculating largest no in the list"
   ]
  },
  {
   "cell_type": "code",
   "execution_count": 2,
   "metadata": {},
   "outputs": [
    {
     "name": "stdout",
     "output_type": "stream",
     "text": [
      "56\n"
     ]
    }
   ],
   "source": [
    "def function(l):\n",
    "    temp=None\n",
    "    for x in l:\n",
    "        if temp==None or x>temp:\n",
    "            temp=x\n",
    "    return temp\n",
    "print(function([1,23,4,56,2,0,21]))"
   ]
  },
  {
   "cell_type": "code",
   "execution_count": null,
   "metadata": {},
   "outputs": [],
   "source": []
  }
 ],
 "metadata": {
  "kernelspec": {
   "display_name": "Python 3",
   "language": "python",
   "name": "python3"
  },
  "language_info": {
   "codemirror_mode": {
    "name": "ipython",
    "version": 3
   },
   "file_extension": ".py",
   "mimetype": "text/x-python",
   "name": "python",
   "nbconvert_exporter": "python",
   "pygments_lexer": "ipython3",
   "version": "3.7.3"
  }
 },
 "nbformat": 4,
 "nbformat_minor": 2
}
