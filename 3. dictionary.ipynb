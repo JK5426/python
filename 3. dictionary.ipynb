{
 "cells": [
  {
   "cell_type": "markdown",
   "metadata": {},
   "source": [
    "# What is dictionary"
   ]
  },
  {
   "cell_type": "markdown",
   "metadata": {},
   "source": [
    "python dictionary has unorder collection of the item.\n",
    "dictionary has a key and a value pair\n",
    "### key:value\n",
    "# how to create dictionary\n",
    "dictionary is created inside {} braces seprated with comma.\n",
    "a item have value and corrosponding there key \n",
    "While values can be of any data type and can repeat, keys must be of immutable type (string, number or tuple with immutable elements) and must be unique."
   ]
  },
  {
   "cell_type": "code",
   "execution_count": 10,
   "metadata": {},
   "outputs": [
    {
     "name": "stdout",
     "output_type": "stream",
     "text": [
      "{'name': 'vishvajeet dubey', 'age': 20, 'mobile no': 8223888971}\n"
     ]
    }
   ],
   "source": [
    "mydic={}\n",
    "# dict{} is build-in-function for creating the dictionary.\n",
    "\n",
    "mydic={\"name\":\"vishvajeet dubey\", \"age\":20,\"mobile no\":8223888971}\n",
    "print(mydic)"
   ]
  },
  {
   "cell_type": "code",
   "execution_count": 9,
   "metadata": {},
   "outputs": [
    {
     "data": {
      "text/plain": [
       "8223888971"
      ]
     },
     "execution_count": 9,
     "metadata": {},
     "output_type": "execute_result"
    }
   ],
   "source": [
    "# acess only mobile number\n",
    "mydic[\"mobile no\"]"
   ]
  },
  {
   "cell_type": "markdown",
   "metadata": {},
   "source": [
    "# get() method\n",
    "we can access the item in dictionary their key value in square [] barcket. and also access by using get() method \n",
    "#### syntax:\n",
    "#### dict_name.get(\"key\")\n"
   ]
  },
  {
   "cell_type": "code",
   "execution_count": 23,
   "metadata": {},
   "outputs": [
    {
     "name": "stdout",
     "output_type": "stream",
     "text": [
      "vishvajeet dubey\n"
     ]
    }
   ],
   "source": [
    "# access only the age with the get() method\n",
    "print(mydic.get(\"name\"))"
   ]
  },
  {
   "cell_type": "code",
   "execution_count": 24,
   "metadata": {},
   "outputs": [
    {
     "name": "stdout",
     "output_type": "stream",
     "text": [
      "None\n"
     ]
    }
   ],
   "source": [
    "# if key is not found then it return None instead of keyerror\n",
    "print(mydic.get(\"dob\"))\n"
   ]
  },
  {
   "cell_type": "code",
   "execution_count": 12,
   "metadata": {},
   "outputs": [
    {
     "name": "stdout",
     "output_type": "stream",
     "text": [
      "('c', 'c++', 'java', 'python')\n"
     ]
    }
   ],
   "source": [
    "#dictionary with mixed key\n",
    "\n",
    "mydic={1:\"program\",\"language\":(\"c\",\"c++\",\"java\",\"python\")}\n",
    "print(mydic.get(\"language\"))"
   ]
  },
  {
   "cell_type": "markdown",
   "metadata": {},
   "source": [
    "####  note:--value can any datatype and repeat but key cannot repeat\n",
    "\n"
   ]
  },
  {
   "cell_type": "markdown",
   "metadata": {},
   "source": [
    "# change the element in dictionary\n"
   ]
  },
  {
   "cell_type": "markdown",
   "metadata": {},
   "source": [
    "we can change the value in dictionary by using assigment operator.\n",
    "##### if the key is present then update that key value else add in new key and its value in dictionary "
   ]
  },
  {
   "cell_type": "code",
   "execution_count": 1,
   "metadata": {},
   "outputs": [],
   "source": [
    "mydic={\"name\":\"vishvajeet dubey\",\"age\":20}"
   ]
  },
  {
   "cell_type": "code",
   "execution_count": 3,
   "metadata": {},
   "outputs": [
    {
     "data": {
      "text/plain": [
       "{'name': 'vishvajeet dubey', 'age': 22}"
      ]
     },
     "execution_count": 3,
     "metadata": {},
     "output_type": "execute_result"
    }
   ],
   "source": [
    "# updating new age \n",
    "\n",
    "mydic[\"age\"]= 22\n",
    "mydic"
   ]
  },
  {
   "cell_type": "code",
   "execution_count": 6,
   "metadata": {},
   "outputs": [
    {
     "data": {
      "text/plain": [
       "{'name': 'vishvajeet dubey', 'age': 22, 'address': 'Bhopal INDIA'}"
      ]
     },
     "execution_count": 6,
     "metadata": {},
     "output_type": "execute_result"
    }
   ],
   "source": [
    "# adding new value(here address is not found in dictionary key that's why add new key:value in dictionary)\n",
    "\n",
    "mydic[\"address\"]=\"Bhopal INDIA\"\n",
    "mydic"
   ]
  },
  {
   "cell_type": "markdown",
   "metadata": {},
   "source": [
    "# DELETING THE ITEM IN DICTIONARY"
   ]
  },
  {
   "cell_type": "markdown",
   "metadata": {},
   "source": [
    "we can delete the item in dictionary by using>>\n",
    "1. pop()   \n",
    "2. popitem()   \n",
    "3. clear()    \n",
    "4. del keyword"
   ]
  },
  {
   "cell_type": "markdown",
   "metadata": {},
   "source": [
    "# 1. pop() method\n",
    "> The pop() method removes and returns an element from a dictionary having the given key."
   ]
  },
  {
   "cell_type": "markdown",
   "metadata": {},
   "source": [
    "## <u> syntax:-\n",
    "           dictionary.pop(key[, default])"
   ]
  },
  {
   "cell_type": "code",
   "execution_count": 3,
   "metadata": {},
   "outputs": [
    {
     "name": "stdout",
     "output_type": "stream",
     "text": [
      "vdubey7654@gmail.com\n",
      "{'name': 'vishvajeet', 'age': 20}\n"
     ]
    }
   ],
   "source": [
    "# 1. If key is found - removed/popped element from the dictionary\n",
    "\n",
    "mydic={\"name\":\"vishvajeet\",\"age\":20,\"email\":\"vdubey7654@gmail.com\"}\n",
    "pop_item=mydic.pop(\"email\")\n",
    "print(pop_item)   #pop() is also returns the poping item value.\n",
    "print(mydic)"
   ]
  },
  {
   "cell_type": "code",
   "execution_count": 5,
   "metadata": {},
   "outputs": [
    {
     "ename": "KeyError",
     "evalue": "'address'",
     "output_type": "error",
     "traceback": [
      "\u001b[1;31m---------------------------------------------------------------------------\u001b[0m",
      "\u001b[1;31mKeyError\u001b[0m                                  Traceback (most recent call last)",
      "\u001b[1;32m<ipython-input-5-dead0f642968>\u001b[0m in \u001b[0;36m<module>\u001b[1;34m\u001b[0m\n\u001b[0;32m      1\u001b[0m \u001b[1;31m# 2. if key is not found\u001b[0m\u001b[1;33m\u001b[0m\u001b[1;33m\u001b[0m\u001b[1;33m\u001b[0m\u001b[0m\n\u001b[0;32m      2\u001b[0m \u001b[1;33m\u001b[0m\u001b[0m\n\u001b[1;32m----> 3\u001b[1;33m \u001b[0mitem\u001b[0m\u001b[1;33m=\u001b[0m\u001b[0mmydic\u001b[0m\u001b[1;33m.\u001b[0m\u001b[0mpop\u001b[0m\u001b[1;33m(\u001b[0m\u001b[1;34m\"address\"\u001b[0m\u001b[1;33m)\u001b[0m\u001b[1;33m\u001b[0m\u001b[1;33m\u001b[0m\u001b[0m\n\u001b[0m\u001b[0;32m      4\u001b[0m \u001b[0mmydic\u001b[0m\u001b[1;33m\u001b[0m\u001b[1;33m\u001b[0m\u001b[0m\n",
      "\u001b[1;31mKeyError\u001b[0m: 'address'"
     ]
    }
   ],
   "source": [
    "# 2. if key is not found\n",
    "\n",
    "item=mydic.pop(\"address\")\n",
    "mydic"
   ]
  },
  {
   "cell_type": "code",
   "execution_count": 14,
   "metadata": {},
   "outputs": [
    {
     "name": "stdout",
     "output_type": "stream",
     "text": [
      "the pop element is address\n"
     ]
    },
    {
     "data": {
      "text/plain": [
       "{'name': 'vishvajeet', 'age': 20}"
      ]
     },
     "execution_count": 14,
     "metadata": {},
     "output_type": "execute_result"
    }
   ],
   "source": [
    "# 3. if key is not found but poping with defualt value\n",
    "\n",
    "item=mydic.pop(\"address\",\"address\")\n",
    "print(\"the pop element is \"+ item)\n",
    "mydic"
   ]
  },
  {
   "cell_type": "markdown",
   "metadata": {},
   "source": [
    " <h3>Note:- multiple keys in single argument is not allow(only dictionary.pop(key,default))"
   ]
  },
  {
   "cell_type": "markdown",
   "metadata": {},
   "source": [
    "<h1> <u> 2. popitem() method:-</h1>\n",
    "The popitem() <u>returns and removes</u> an arbitrary element (key, value) pair from the dictionary.\n",
    " \n",
    "<u> syntax:-</u>\n",
    ">dictionary.popitem()\n",
    "   "
   ]
  },
  {
   "cell_type": "code",
   "execution_count": 1,
   "metadata": {},
   "outputs": [
    {
     "name": "stdout",
     "output_type": "stream",
     "text": [
      "person =  {'name': 'Phill', 'age': 22}\n",
      "Return Value =  ('salary', 3500.0)\n"
     ]
    }
   ],
   "source": [
    "person = {'name': 'Phill', 'age': 22, 'salary': 3500.0}\n",
    "\n",
    "result = person.popitem()\n",
    "print('person = ',person)\n",
    "print('Return Value = ',result)"
   ]
  },
  {
   "cell_type": "markdown",
   "metadata": {},
   "source": [
    "<h1> <u>3. clear() method:-</u></h1>\n",
    "    The clear() method removes all items from the dictionary.<br>\n",
    "   1. return None <br>\n",
    "   2. {}"
   ]
  },
  {
   "cell_type": "code",
   "execution_count": 4,
   "metadata": {},
   "outputs": [
    {
     "name": "stdout",
     "output_type": "stream",
     "text": [
      "None\n",
      "{}\n"
     ]
    }
   ],
   "source": [
    "person = {'name': 'Phill', 'age': 22, 'salary': 3500.0}\n",
    "print(person.clear())\n",
    "print(person)"
   ]
  },
  {
   "cell_type": "markdown",
   "metadata": {},
   "source": [
    "<h1><u>4. del keyword</u></h1>\n",
    "<i>syntax:-</i><br>\n",
    "       del dictionary[key]<br>\n",
    "We can also use the del keyword to remove individual items or the entire dictionary itself.\n"
   ]
  },
  {
   "cell_type": "code",
   "execution_count": 22,
   "metadata": {
    "scrolled": true
   },
   "outputs": [
    {
     "data": {
      "text/plain": [
       "{'fname': 'manoj', 'mname': 'madhuri'}"
      ]
     },
     "execution_count": 22,
     "metadata": {},
     "output_type": "execute_result"
    }
   ],
   "source": [
    "family={\"name\":\"vishu\",\"fname\":\"manoj\",\"mname\":\"madhuri\"}\n",
    "del family[\"name\"]\n",
    "family"
   ]
  },
  {
   "cell_type": "markdown",
   "metadata": {},
   "source": [
    "# copy() :-\n",
    "They copy() method returns a shallow copy of the dictionary.<br>\n",
    "<u>suntax</u>\n",
    "> dictionary.copy()"
   ]
  },
  {
   "cell_type": "code",
   "execution_count": 2,
   "metadata": {},
   "outputs": [
    {
     "name": "stdout",
     "output_type": "stream",
     "text": [
      "{'name': 'Rajan', 'age': 20, 'email': 'vdubey7654@gmail.com'}\n"
     ]
    }
   ],
   "source": [
    "orginal={\"name\":\"Rajan\",\"age\":20,\"email\":\"vdubey7654@gmail.com\"}\n",
    "new=orginal.copy()\n",
    "print(new)"
   ]
  },
  {
   "cell_type": "markdown",
   "metadata": {},
   "source": [
    "# fromkeys() Parameters"
   ]
  },
  {
   "cell_type": "markdown",
   "metadata": {},
   "source": [
    "fromkeys() takes tuple,dictionary,list as key with same value. if value is not pass then it get None."
   ]
  },
  {
   "cell_type": "code",
   "execution_count": 5,
   "metadata": {},
   "outputs": [
    {
     "name": "stdout",
     "output_type": "stream",
     "text": [
      "{1: 'integer', 2: 'integer', 3: 'integer', 4: 'integer', 5: 'integer', 6: 'integer', 7: 'integer'}\n"
     ]
    }
   ],
   "source": [
    "tup=[1,2,3,4,5,6,7]\n",
    "num=\"integer\"\n",
    "dictionary=dict()\n",
    "dictionary=dictionary.fromkeys(tup,num)\n",
    "print(dictionary)"
   ]
  },
  {
   "cell_type": "code",
   "execution_count": 7,
   "metadata": {},
   "outputs": [
    {
     "data": {
      "text/plain": [
       "{1: None, 2: None, 3: None, 4: None, 5: None, 6: None, 7: None}"
      ]
     },
     "execution_count": 7,
     "metadata": {},
     "output_type": "execute_result"
    }
   ],
   "source": [
    "# value is not pass\n",
    "ram={}\n",
    "ram=ram.fromkeys(tup)\n",
    "ram"
   ]
  },
  {
   "cell_type": "markdown",
   "metadata": {},
   "source": [
    "<h1><u>keys()</u></h1>"
   ]
  },
  {
   "cell_type": "markdown",
   "metadata": {},
   "source": [
    "it returns the keys of dictionary in a list<br>\n",
    "<u>syntax:-</u><br>\n",
    "dictionary.keys()"
   ]
  },
  {
   "cell_type": "code",
   "execution_count": 20,
   "metadata": {},
   "outputs": [
    {
     "name": "stdout",
     "output_type": "stream",
     "text": [
      "dict_keys(['name', 'branch', 'email'])\n"
     ]
    }
   ],
   "source": [
    "new_dic={\"name\":\"ram\",\"branch\":\"CSE\",\"email\":\"ram12@gmail.com\"}\n",
    "print(new_dic.keys())"
   ]
  },
  {
   "cell_type": "markdown",
   "metadata": {},
   "source": [
    "<h1><u>items()</u></h1><br>\n",
    "The items() method returns a view object that displays a list of dictionary's (key, value) tuple pairs.<br>\n",
    "<u>syntax:-</u><br>\n",
    "dictionary.items()"
   ]
  },
  {
   "cell_type": "code",
   "execution_count": 12,
   "metadata": {},
   "outputs": [
    {
     "name": "stdout",
     "output_type": "stream",
     "text": [
      "dict_items([('name', 'vishu'), ('email', 'vdubey7654@hgmail.com')])\n"
     ]
    }
   ],
   "source": [
    "dictionary={\"name\":\"vishu\",\"email\":\"vdubey7654@hgmail.com\"}\n",
    "print(dictionary.items())"
   ]
  },
  {
   "cell_type": "code",
   "execution_count": 3,
   "metadata": {},
   "outputs": [
    {
     "name": "stdout",
     "output_type": "stream",
     "text": [
      "20\n"
     ]
    }
   ],
   "source": [
    "dictionary={\"name\":\"vishu\",\"email\":\"vdubey7654@hgmail.com\"}\n",
    "age=dictionary.setdefault(\"age\",20)\n",
    "print(age)"
   ]
  },
  {
   "cell_type": "code",
   "execution_count": null,
   "metadata": {},
   "outputs": [],
   "source": []
  }
 ],
 "metadata": {
  "kernelspec": {
   "display_name": "Python 3",
   "language": "python",
   "name": "python3"
  },
  "language_info": {
   "codemirror_mode": {
    "name": "ipython",
    "version": 3
   },
   "file_extension": ".py",
   "mimetype": "text/x-python",
   "name": "python",
   "nbconvert_exporter": "python",
   "pygments_lexer": "ipython3",
   "version": "3.7.4"
  },
  "toc": {
   "base_numbering": 1,
   "nav_menu": {},
   "number_sections": true,
   "sideBar": true,
   "skip_h1_title": false,
   "title_cell": "Table of Contents",
   "title_sidebar": "Contents",
   "toc_cell": false,
   "toc_position": {},
   "toc_section_display": true,
   "toc_window_display": false
  }
 },
 "nbformat": 4,
 "nbformat_minor": 2
}
