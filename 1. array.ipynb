{
 "cells": [
  {
   "cell_type": "markdown",
   "metadata": {},
   "source": [
    "# python array"
   ]
  },
  {
   "cell_type": "markdown",
   "metadata": {},
   "source": [
    "python does not have build-in support for array but we can use list insteed."
   ]
  },
  {
   "cell_type": "markdown",
   "metadata": {},
   "source": [
    "array are use to store the multiple value in single variable."
   ]
  },
  {
   "cell_type": "markdown",
   "metadata": {},
   "source": [
    "# what is array\n",
    "an array is single variable which can hold multiple value at a time.\n",
    "we can access the element of array by there index value."
   ]
  },
  {
   "cell_type": "code",
   "execution_count": 2,
   "metadata": {},
   "outputs": [
    {
     "name": "stdout",
     "output_type": "stream",
     "text": [
      "rajan\n"
     ]
    }
   ],
   "source": [
    "array=[\"rajan\",\"adarsh\",\"devansh\",\"maruti\"]\n",
    "print(array[0])"
   ]
  },
  {
   "cell_type": "code",
   "execution_count": 3,
   "metadata": {},
   "outputs": [
    {
     "name": "stdout",
     "output_type": "stream",
     "text": [
      "rajan\n",
      "adarsh\n",
      "devansh\n",
      "maruti\n"
     ]
    }
   ],
   "source": [
    "for x in array:\n",
    "    print(x)\n",
    "    "
   ]
  },
  {
   "cell_type": "markdown",
   "metadata": {},
   "source": [
    "# lenght of array\n",
    "### len() function returns the lenght of the array.\n",
    "syntax:-\n",
    "#### len(name_of_array)"
   ]
  },
  {
   "cell_type": "code",
   "execution_count": 5,
   "metadata": {},
   "outputs": [
    {
     "name": "stdout",
     "output_type": "stream",
     "text": [
      "The lenght of array is  4\n"
     ]
    }
   ],
   "source": [
    "x=len(array)\n",
    "print(\"The lenght of array is\",x)"
   ]
  },
  {
   "cell_type": "markdown",
   "metadata": {},
   "source": [
    "# looping array element"
   ]
  },
  {
   "cell_type": "code",
   "execution_count": 1,
   "metadata": {},
   "outputs": [
    {
     "name": "stdout",
     "output_type": "stream",
     "text": [
      "rajan\n",
      "adarsh\n",
      "devansh\n",
      "maruti\n"
     ]
    }
   ],
   "source": [
    "name=[\"rajan\",\"adarsh\",\"devansh\",\"maruti\"]\n",
    "for bro_name in name:\n",
    "    print(bro_name)"
   ]
  },
  {
   "cell_type": "markdown",
   "metadata": {},
   "source": [
    "# adding element in array..\n",
    "By adding element in array we use append() function.\n",
    "#### syntax:-\n",
    "array.append(arg)"
   ]
  },
  {
   "cell_type": "code",
   "execution_count": 2,
   "metadata": {},
   "outputs": [
    {
     "name": "stdout",
     "output_type": "stream",
     "text": [
      "['rajan', 'adarsh', 'devansh', 'maruti', 'vishu']\n"
     ]
    }
   ],
   "source": [
    "name=[\"rajan\",\"adarsh\",\"devansh\",\"maruti\"]\n",
    "name.append(\"vishu\")\n",
    "print(name)"
   ]
  },
  {
   "cell_type": "markdown",
   "metadata": {},
   "source": [
    "# Remove item from array\n",
    "By removing item from array we use pop() function\n",
    "### syntax\n",
    "array.pop(index_value)"
   ]
  },
  {
   "cell_type": "code",
   "execution_count": 3,
   "metadata": {},
   "outputs": [
    {
     "name": "stdout",
     "output_type": "stream",
     "text": [
      "['rajan', 'adarsh', 'devansh', 'maruti']\n"
     ]
    }
   ],
   "source": [
    "name=[\"rajan\",\"adarsh\",\"devansh\",\"maruti\",\"vishu\"]\n",
    "name.pop(-1)\n",
    "print(name)\n",
    "# remove vishu which index value is -1"
   ]
  },
  {
   "cell_type": "markdown",
   "metadata": {},
   "source": [
    "### we can also remove the item from remove() function\n",
    "#### syntax:-\n",
    "array.remove(\"item_name\")"
   ]
  },
  {
   "cell_type": "code",
   "execution_count": 4,
   "metadata": {},
   "outputs": [
    {
     "name": "stdout",
     "output_type": "stream",
     "text": [
      "['adarsh', 'devansh', 'maruti']\n"
     ]
    }
   ],
   "source": [
    "name=[\"rajan\",\"adarsh\",\"devansh\",\"maruti\"]\n",
    "# i want to remove the rajan by using remove() function\n",
    "name.remove(\"rajan\")\n",
    "print(name)"
   ]
  },
  {
   "cell_type": "code",
   "execution_count": null,
   "metadata": {},
   "outputs": [],
   "source": []
  }
 ],
 "metadata": {
  "kernelspec": {
   "display_name": "Python 3",
   "language": "python",
   "name": "python3"
  },
  "language_info": {
   "codemirror_mode": {
    "name": "ipython",
    "version": 3
   },
   "file_extension": ".py",
   "mimetype": "text/x-python",
   "name": "python",
   "nbconvert_exporter": "python",
   "pygments_lexer": "ipython3",
   "version": "3.7.4"
  },
  "toc": {
   "base_numbering": 1,
   "nav_menu": {},
   "number_sections": true,
   "sideBar": true,
   "skip_h1_title": false,
   "title_cell": "Table of Contents",
   "title_sidebar": "Contents",
   "toc_cell": false,
   "toc_position": {},
   "toc_section_display": true,
   "toc_window_display": false
  }
 },
 "nbformat": 4,
 "nbformat_minor": 2
}
