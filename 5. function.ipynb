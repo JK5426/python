{
 "cells": [
  {
   "cell_type": "code",
   "execution_count": 3,
   "metadata": {},
   "outputs": [
    {
     "name": "stdout",
     "output_type": "stream",
     "text": [
      "0\n",
      "2\n",
      "4\n",
      "6\n",
      "8\n",
      "10\n",
      "12\n",
      "14\n",
      "16\n",
      "18\n",
      "20\n",
      "22\n",
      "24\n",
      "26\n",
      "28\n",
      "30\n",
      "32\n",
      "34\n",
      "36\n",
      "38\n",
      "40\n",
      "42\n",
      "44\n",
      "46\n",
      "48\n",
      "50\n",
      "52\n",
      "54\n",
      "56\n",
      "58\n",
      "60\n",
      "62\n",
      "64\n",
      "66\n",
      "68\n",
      "70\n",
      "72\n",
      "74\n",
      "76\n",
      "78\n",
      "80\n",
      "82\n",
      "84\n",
      "86\n",
      "88\n",
      "90\n",
      "92\n",
      "94\n",
      "96\n",
      "98\n"
     ]
    }
   ],
   "source": [
    "# one line code to print all even numbers between 1 to 100.\n",
    "for x in range(0,100,2): print(x)"
   ]
  },
  {
   "cell_type": "markdown",
   "metadata": {},
   "source": [
    "# python function"
   ]
  },
  {
   "cell_type": "markdown",
   "metadata": {},
   "source": [
    "A function is a block of code which only runs when it is called.\n",
    "\n",
    "You can pass data, known as parameters, into a function.\n",
    "\n",
    "A function can return data as a result.\n",
    "\n"
   ]
  },
  {
   "cell_type": "markdown",
   "metadata": {},
   "source": [
    "# creating function"
   ]
  },
  {
   "cell_type": "markdown",
   "metadata": {},
   "source": [
    "in python for creating function, use def keyword"
   ]
  },
  {
   "cell_type": "code",
   "execution_count": 4,
   "metadata": {},
   "outputs": [
    {
     "name": "stdout",
     "output_type": "stream",
     "text": [
      "hello from a function\n"
     ]
    }
   ],
   "source": [
    "def my_function():\n",
    "    print(\"hello from a function\")\n",
    "my_function()"
   ]
  },
  {
   "cell_type": "markdown",
   "metadata": {},
   "source": [
    "# argument"
   ]
  },
  {
   "cell_type": "markdown",
   "metadata": {},
   "source": [
    "information can be passed into the function"
   ]
  },
  {
   "cell_type": "code",
   "execution_count": 5,
   "metadata": {},
   "outputs": [
    {
     "name": "stdout",
     "output_type": "stream",
     "text": [
      "Rajan Dubey\n",
      "Vishvajeet Dubey\n"
     ]
    }
   ],
   "source": [
    "def my_function(fname):\n",
    "    print(fname,\"Dubey\")\n",
    "my_function(\"Rajan\")\n",
    "my_function(\"Vishvajeet\")"
   ]
  },
  {
   "cell_type": "markdown",
   "metadata": {},
   "source": [
    "# Number of Arguments"
   ]
  },
  {
   "cell_type": "markdown",
   "metadata": {},
   "source": [
    "a function must be call after correct number of arguments. means if you want to create 2 arguments then you should also pass 2 arguments for call it...\n",
    "You can create number of arguments by seprating with comma.."
   ]
  },
  {
   "cell_type": "code",
   "execution_count": 6,
   "metadata": {},
   "outputs": [
    {
     "name": "stdout",
     "output_type": "stream",
     "text": [
      "Rajan Dubey\n",
      "Vishvajeet Dubey\n"
     ]
    }
   ],
   "source": [
    "def name(fname,lname):\n",
    "    print(fname,lname)\n",
    "name(\"Rajan\",\"Dubey\")\n",
    "name(\"Vishvajeet\",\"Dubey\")"
   ]
  },
  {
   "cell_type": "markdown",
   "metadata": {},
   "source": [
    "The function expects 2 arguments but it get only one, then it get error\n"
   ]
  },
  {
   "cell_type": "code",
   "execution_count": 9,
   "metadata": {},
   "outputs": [
    {
     "name": "stdout",
     "output_type": "stream",
     "text": [
      "Rajan\n"
     ]
    }
   ],
   "source": [
    "def Name(fname,lname):\n",
    "    print(fname)\n",
    "Name(\"Rajan\",\"Dubey\")"
   ]
  },
  {
   "cell_type": "markdown",
   "metadata": {},
   "source": [
    "# Arbitarary arguments"
   ]
  },
  {
   "cell_type": "markdown",
   "metadata": {},
   "source": [
    "If you do not know how many arguments pass in the fumction then you add * before the parameter and name in the function defination.\n",
    "### this way a recive the tuple of arguments"
   ]
  },
  {
   "cell_type": "code",
   "execution_count": 17,
   "metadata": {},
   "outputs": [
    {
     "name": "stdout",
     "output_type": "stream",
     "text": [
      "my name is  Vishvajeet , sirname is Dubey , nickname is Rajan\n"
     ]
    }
   ],
   "source": [
    "def myname(*name):\n",
    "    print(\"my name is \",name[0], \", sirname is\",name[1],\", nickname is\",name[2])\n",
    "myname(\"Vishvajeet\",\"Dubey\",\"Rajan\")"
   ]
  },
  {
   "cell_type": "markdown",
   "metadata": {},
   "source": [
    "# keyword argument\n",
    "you can also send the arguments with key= value syntax"
   ]
  },
  {
   "cell_type": "code",
   "execution_count": 18,
   "metadata": {},
   "outputs": [
    {
     "name": "stdout",
     "output_type": "stream",
     "text": [
      "The youngest child is  devansh\n"
     ]
    }
   ],
   "source": [
    "def my_function(child3,child2,child1):\n",
    "    print(\"The youngest child is \",child3)\n",
    "my_function(child1=\"rajan\",child2=\"kashish\",child3=\"devansh\")"
   ]
  },
  {
   "cell_type": "markdown",
   "metadata": {},
   "source": [
    "# arbitrary keyword argument **kwargs\n",
    "#### If you want many number of keyword arguments then you should add **  before the parameter name in the function defination."
   ]
  },
  {
   "cell_type": "code",
   "execution_count": 22,
   "metadata": {},
   "outputs": [
    {
     "name": "stdout",
     "output_type": "stream",
     "text": [
      "father name is Manoj dubey\n"
     ]
    }
   ],
   "source": [
    "def my_function(**name):\n",
    "    print(\"father name is\",name[\"father_name\"])\n",
    "my_function(father_name=\"Manoj dubey\", mother_name=\"Madhuri devi\", name=\"Vishvajeet dubey\")"
   ]
  },
  {
   "cell_type": "markdown",
   "metadata": {},
   "source": [
    "# default argument\n",
    "if you call the function without argument, then it uses the default argument."
   ]
  },
  {
   "cell_type": "code",
   "execution_count": 23,
   "metadata": {},
   "outputs": [
    {
     "name": "stdout",
     "output_type": "stream",
     "text": [
      "I am from India\n",
      "I am from USA\n",
      "I am from sweden\n"
     ]
    }
   ],
   "source": [
    "def my_function(country=\"India\"):\n",
    "    print(\"I am from \"+ country)\n",
    "my_function()\n",
    "my_function(\"USA\")\n",
    "my_function(\"sweden\")"
   ]
  },
  {
   "cell_type": "markdown",
   "metadata": {},
   "source": [
    "# passing list as argument\n",
    "You can pass any data types of arguments (list, tuple, dictonary, etc...)"
   ]
  },
  {
   "cell_type": "code",
   "execution_count": 25,
   "metadata": {},
   "outputs": [
    {
     "name": "stdout",
     "output_type": "stream",
     "text": [
      "banana\n",
      "mango\n",
      "apple\n"
     ]
    }
   ],
   "source": [
    "def my_function(food):\n",
    "    for x in food:\n",
    "        print(x)\n",
    "fruits=[\"banana\",\"mango\",\"apple\"]\n",
    "my_function(fruits)"
   ]
  },
  {
   "cell_type": "markdown",
   "metadata": {},
   "source": [
    "# return value\n"
   ]
  },
  {
   "cell_type": "code",
   "execution_count": 26,
   "metadata": {},
   "outputs": [
    {
     "name": "stdout",
     "output_type": "stream",
     "text": [
      "15\n",
      "25\n"
     ]
    }
   ],
   "source": [
    "def my_function(num):\n",
    "    return 5*num\n",
    "print(my_function(3))\n",
    "print(my_function(5))\n"
   ]
  },
  {
   "cell_type": "markdown",
   "metadata": {},
   "source": [
    "# pass statement\n",
    "for eg"
   ]
  }
 ],
 "metadata": {
  "kernelspec": {
   "display_name": "Python 3",
   "language": "python",
   "name": "python3"
  },
  "language_info": {
   "codemirror_mode": {
    "name": "ipython",
    "version": 3
   },
   "file_extension": ".py",
   "mimetype": "text/x-python",
   "name": "python",
   "nbconvert_exporter": "python",
   "pygments_lexer": "ipython3",
   "version": "3.7.4"
  },
  "toc": {
   "base_numbering": 1,
   "nav_menu": {},
   "number_sections": true,
   "sideBar": true,
   "skip_h1_title": false,
   "title_cell": "Table of Contents",
   "title_sidebar": "Contents",
   "toc_cell": false,
   "toc_position": {},
   "toc_section_display": true,
   "toc_window_display": false
  }
 },
 "nbformat": 4,
 "nbformat_minor": 2
}
